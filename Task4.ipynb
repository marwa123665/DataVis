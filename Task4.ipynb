{
 "cells": [
  {
   "cell_type": "code",
   "execution_count": 7,
   "metadata": {},
   "outputs": [
    {
     "name": "stdout",
     "output_type": "stream",
     "text": [
      "Requirement already satisfied: selenium in c:\\python311\\lib\\site-packages (4.16.0)\n",
      "Requirement already satisfied: urllib3[socks]<3,>=1.26 in c:\\python311\\lib\\site-packages (from selenium) (2.1.0)\n",
      "Requirement already satisfied: trio~=0.17 in c:\\python311\\lib\\site-packages (from selenium) (0.23.2)\n",
      "Requirement already satisfied: trio-websocket~=0.9 in c:\\python311\\lib\\site-packages (from selenium) (0.11.1)\n",
      "Requirement already satisfied: certifi>=2021.10.8 in c:\\python311\\lib\\site-packages (from selenium) (2023.11.17)\n",
      "Requirement already satisfied: attrs>=20.1.0 in c:\\python311\\lib\\site-packages (from trio~=0.17->selenium) (23.2.0)\n",
      "Requirement already satisfied: sortedcontainers in c:\\python311\\lib\\site-packages (from trio~=0.17->selenium) (2.4.0)\n",
      "Requirement already satisfied: idna in c:\\python311\\lib\\site-packages (from trio~=0.17->selenium) (3.6)\n",
      "Requirement already satisfied: outcome in c:\\python311\\lib\\site-packages (from trio~=0.17->selenium) (1.3.0.post0)\n",
      "Requirement already satisfied: sniffio>=1.3.0 in c:\\python311\\lib\\site-packages (from trio~=0.17->selenium) (1.3.0)\n",
      "Requirement already satisfied: cffi>=1.14 in c:\\python311\\lib\\site-packages (from trio~=0.17->selenium) (1.16.0)\n",
      "Requirement already satisfied: wsproto>=0.14 in c:\\python311\\lib\\site-packages (from trio-websocket~=0.9->selenium) (1.2.0)\n",
      "Requirement already satisfied: pysocks!=1.5.7,<2.0,>=1.5.6 in c:\\python311\\lib\\site-packages (from urllib3[socks]<3,>=1.26->selenium) (1.7.1)\n",
      "Requirement already satisfied: pycparser in c:\\python311\\lib\\site-packages (from cffi>=1.14->trio~=0.17->selenium) (2.21)\n",
      "Requirement already satisfied: h11<1,>=0.9.0 in c:\\python311\\lib\\site-packages (from wsproto>=0.14->trio-websocket~=0.9->selenium) (0.14.0)\n",
      "Note: you may need to restart the kernel to use updated packages.\n"
     ]
    },
    {
     "name": "stderr",
     "output_type": "stream",
     "text": [
      "\n",
      "[notice] A new release of pip available: 22.3.1 -> 23.3.2\n",
      "[notice] To update, run: python.exe -m pip install --upgrade pip\n"
     ]
    }
   ],
   "source": [
    "%pip install selenium\n",
    "from selenium.webdriver.common.by import By\n",
    "import pandas as pd\n",
    "from selenium import webdriver"
   ]
  },
  {
   "cell_type": "code",
   "execution_count": 8,
   "metadata": {},
   "outputs": [],
   "source": [
    "driver = webdriver.Chrome()"
   ]
  },
  {
   "cell_type": "code",
   "execution_count": 9,
   "metadata": {},
   "outputs": [],
   "source": [
    "driver.get('https://www.amazon.in/gp/bestsellers/books/')"
   ]
  },
  {
   "cell_type": "code",
   "execution_count": 10,
   "metadata": {},
   "outputs": [],
   "source": [
    "products = driver.find_elements(By.XPATH,\"//div[@class='_cDEzb_iveVideoWrapper_JJ34T']\")\n"
   ]
  },
  {
   "cell_type": "code",
   "execution_count": 11,
   "metadata": {},
   "outputs": [],
   "source": [
    "list_products = []\n",
    "for i in products:\n",
    "    \n",
    "    #print(str(i.text.strip()).split('\\n'))\n",
    "    list_products.append(str(i.text.strip()).split('\\n'))\n"
   ]
  },
  {
   "cell_type": "code",
   "execution_count": 12,
   "metadata": {},
   "outputs": [
    {
     "name": "stdout",
     "output_type": "stream",
     "text": [
      "Why Bharat Matters ₹550.00\n",
      "Atomic Habits ₹540.00\n",
      "The Power of Your Subconscious Mind: Original Edition | Premium Paperback ₹115.00\n",
      "MINtile Sank Magic Practice Copybook, (4 Book + 10 Refill) Number Tracing Book for Preschoolers with Pen, Magic Calligraphy Copybook Set Practical Reusable Writing Tool Simple Hand Lettering ₹120.00\n",
      "The Psychology Of Money ₹275.00\n",
      "Rupesh Thakur Prasad Panchang 2024 /Thakur Prasad Medium Colorful Hindi Panchang Calendar 2024 ₹70.00\n",
      "Ikigai ₹346.00\n",
      "The Things You Can See Only When You Slo ₹406.25\n",
      "My First Book of Patterns Pencil Control: Patterns Practice book for kids (Pattern Writing) ₹89.00\n",
      "Twelfth Fail: Hara Vahi Jo Lada Nahi ₹178.00\n",
      "201 Brain Booster Activity Book - Fun Activities and Exercises For Children: Tracing & Pattern, Colors & Shapes, Maze ₹99.00\n",
      "Blackbook of English Vocabulary ₹295.00\n",
      "Do It Today: Overcome procrastination, improve productivity and achieve more meaningful things [Paperback] Foroux, Darius ₹144.00\n",
      "Nenu (Atmakatha in Telugu) 2 offers from ₹220.00\n",
      "You Can ₹99.00\n",
      "The Power of Your Subconscious Mind ₹99.00\n",
      "Anger Management: The Troubled Diplomatic Relationship between India and Pakistan ₹862.00\n",
      "Colouring Books Boxset: Pack of 12 Copy Colour Books For Children ₹329.00\n",
      "Breakout Trading Made Easy: Maximize Your Profits with Simple Price Action Strategies ₹299.00\n",
      "The Alchemist ₹183.00\n",
      "UPSC Wala Love - Collector Sahiba |Kailash Manju Bishnoi ₹183.00\n",
      "Twelfth Fail | 12th Fail (Hindi) ₹179.00\n",
      "Shrimad Bhagwat Geeta Yatharoop ₹246.00\n"
     ]
    }
   ],
   "source": [
    "titles = []\n",
    "prices = []\n",
    "for i in list_products:\n",
    "    if i[1] != '':\n",
    "        titles.append(i[1])\n",
    "    if len(i) ==5: \n",
    "        prices.append(i[4])\n",
    "    else:\n",
    "        prices.append(i[5])\n",
    "len(titles),len(prices)\n",
    "for i in range(len(titles)):\n",
    "    print(titles[i],prices[i])"
   ]
  },
  {
   "cell_type": "code",
   "execution_count": 25,
   "metadata": {},
   "outputs": [],
   "source": [
    "import pandas as pd\n",
    "df=pd.DataFrame({'titles':titles,'prices':prices})"
   ]
  },
  {
   "cell_type": "code",
   "execution_count": 28,
   "metadata": {},
   "outputs": [],
   "source": [
    "csv_file_path = 'Amazon_Books.csv'\n",
    "\n",
    "# Write the DataFrame to a CSV file\n",
    "df.to_csv(csv_file_path, index=False,encoding='utf-8-sig')"
   ]
  },
  {
   "cell_type": "markdown",
   "metadata": {},
   "source": [
    "**Second Task**"
   ]
  },
  {
   "cell_type": "code",
   "execution_count": 29,
   "metadata": {},
   "outputs": [],
   "source": [
    "driver = webdriver.Chrome()"
   ]
  },
  {
   "cell_type": "code",
   "execution_count": 30,
   "metadata": {},
   "outputs": [],
   "source": [
    "driver.get('https://www.boxofficemojo.com/chart/top_lifetime_gross/?area=XWW')"
   ]
  },
  {
   "cell_type": "code",
   "execution_count": 31,
   "metadata": {},
   "outputs": [],
   "source": [
    "movies = driver.find_elements(By.XPATH,\"//table[@class='a-bordered a-horizontal-stripes a-size-base a-span12 mojo-body-table mojo-table-annotated scrolling-data-table']\")"
   ]
  },
  {
   "cell_type": "code",
   "execution_count": 59,
   "metadata": {},
   "outputs": [],
   "source": [
    "list_movies = []\n",
    "for i in movies:\n",
    "    #print(i.text)\n",
    "    list_movies.append(i.text.split('\\n'))\n",
    "    #print(str(i.text.split()).split('\\n'))\n",
    "    #list_movies.append((str(i.text.split()).strip()))\n"
   ]
  },
  {
   "cell_type": "code",
   "execution_count": 82,
   "metadata": {},
   "outputs": [
    {
     "name": "stderr",
     "output_type": "stream",
     "text": [
      "\n",
      "[notice] A new release of pip available: 22.3.1 -> 23.3.2\n",
      "[notice] To update, run: python.exe -m pip install --upgrade pip\n"
     ]
    },
    {
     "name": "stdout",
     "output_type": "stream",
     "text": [
      "Collecting regexNote: you may need to restart the kernel to use updated packages.\n",
      "\n",
      "  Downloading regex-2023.12.25-cp311-cp311-win_amd64.whl (269 kB)\n",
      "     ------------------------------------ 269.5/269.5 kB 124.8 kB/s eta 0:00:00\n",
      "Installing collected packages: regex\n",
      "Successfully installed regex-2023.12.25\n",
      "[('1', 'Avatar', '2,923,706,026', '2009'), ('2', 'Avengers: Endgame', '2,799,439,100', '2019'), ('3', 'Avatar: The Way of Water', '2,320,250,281', '2022'), ('4', 'Titanic', '2,264,743,305', '1997'), ('5', 'Star Wars: Episode VII - The Force Awakens', '2,071,310,218', '2015'), ('6', 'Avengers: Infinity War', '2,052,415,039', '2018'), ('7', 'Spider-Man: No Way Home', '1,921,847,111', '2021'), ('8', 'Jurassic World', '1,671,537,444', '2015'), ('9', 'The Lion King', '1,663,075,401', '2019'), ('10', 'The Avengers', '1,520,538,536', '2012'), ('11', 'Furious 7', '1,515,341,399', '2015'), ('12', 'Top Gun: Maverick', '1,495,696,292', '2022'), ('13', 'Frozen II', '1,453,683,476', '2019'), ('14', 'Barbie', '1,445,630,407', '2023'), ('15', 'Avengers: Age of Ultron', '1,405,018,048', '2015'), ('16', 'Frozen', '1,397,042,530', '2013'), ('17', 'The Super Mario Bros. Movie', '1,361,939,570', '2023'), ('18', 'Harry Potter and the Deathly Hallows: Part 2', '1,356,841,356', '2011'), ('19', 'Black Panther', '1,349,926,083', '2018'), ('20', 'Star Wars: Episode VIII - The Last Jedi', '1,334,407,706', '2017'), ('21', 'Jurassic World: Fallen Kingdom', '1,310,466,296', '2018'), ('22', 'Beauty and the Beast', '1,266,115,964', '2017'), ('23', 'Incredibles 2', '1,243,225,667', '2018'), ('24', 'The Fate of the Furious', '1,236,005,118', '2017'), ('25', 'Iron Man 3', '1,215,577,205', '2013'), ('26', 'Minions', '1,159,444,662', '2015'), ('27', 'The Lord of the Rings: The Return of the King', '1,156,194,180', '2003'), ('28', 'Captain America: Civil War', '1,155,046,416', '2016'), ('29', 'Aquaman', '1,152,028,393', '2018'), ('30', 'Skyfall', '1,142,471,295', '2012'), ('31', 'Spider-Man: Far from Home', '1,131,927,996', '2019'), ('32', 'Captain Marvel', '1,131,416,446', '2019'), ('33', 'Transformers: Dark of the Moon', '1,123,794,079', '2011'), ('34', 'Jurassic Park', '1,114,429,886', '1993'), ('35', 'The Dark Knight Rises', '1,114,085,030', '2012'), ('36', 'Transformers: Age of Extinction', '1,104,054,072', '2014'), ('37', 'Joker', '1,078,958,282', '2019'), ('38', 'Star Wars: Episode IX - The Rise of Skywalker', '1,077,022,372', '2019'), ('39', 'Toy Story 4', '1,073,841,394', '2019'), ('40', 'Toy Story 3', '1,067,316,101', '2010'), ('41', \"Pirates of the Caribbean: Dead Man's Chest\", '1,066,179,747', '2006'), ('42', 'Rogue One: A Star Wars Story', '1,058,682,142', '2016'), ('43', 'Aladdin', '1,054,304,000', '2019'), ('44', 'Pirates of the Caribbean: On Stranger Tides', '1,046,721,266', '2011'), ('45', 'Despicable Me 3', '1,034,800,131', '2017'), ('46', 'Finding Dory', '1,029,266,989', '2016'), ('47', 'The Dark Knight', '1,029,266,147', '2008'), ('48', 'Star Wars: Episode I - The Phantom Menace', '1,027,082,707', '1999'), ('49', 'Zootopia', '1,025,521,689', '2016'), ('50', 'Alice in Wonderland', '1,025,468,216', '2010'), ('51', \"Harry Potter and the Sorcerer's Stone\", '1,024,264,477', '2001'), ('52', 'The Hobbit: An Unexpected Journey', '1,017,030,651', '2012'), ('53', 'Jurassic World Dominion', '1,001,978,080', '2022'), ('54', 'Jumanji: Welcome to the Jungle', '995,339,117', '2017'), ('55', 'Harry Potter and the Deathly Hallows: Part 1', '972,584,232', '2010'), ('56', 'Despicable Me 2', '970,766,005', '2013'), ('57', 'The Lion King', '968,511,805', '1994'), ('58', 'The Jungle Book', '967,724,775', '2016'), ('59', 'The Hobbit: The Battle of the Five Armies', '962,201,338', '2014'), ('60', \"Pirates of the Caribbean: At World's End\", '961,691,209', '2007'), ('61', 'The Hobbit: The Desolation of Smaug', '959,027,992', '2013'), ('62', 'Doctor Strange in the Multiverse of Madness', '955,775,804', '2022'), ('63', 'Oppenheimer', '952,039,870', '2023'), ('64', 'The Lord of the Rings: The Two Towers', '948,945,489', '2002'), ('65', 'Finding Nemo', '941,637,960', '2003'), ('66', 'Minions: The Rise of Gru', '940,203,765', '2022'), ('67', 'Harry Potter and the Order of the Phoenix', '939,288,806', '2007'), ('68', 'Harry Potter and the Half-Blood Prince', '934,770,304', '2009'), ('69', 'Shrek 2', '928,961,330', '2004'), ('70', 'Harry Potter and the Chamber of Secrets', '926,201,000', '2002'), ('71', 'Bohemian Rhapsody', '910,809,311', '2018'), ('72', 'The Battle at Lake Changjin', '902,548,476', '2021'), ('73', 'Harry Potter and the Goblet of Fire', '897,048,648', '2005'), ('74', 'Spider-Man 3', '894,983,373', '2007'), ('75', 'The Secret Life of Pets', '894,567,999', '2016'), ('76', 'Ice Age: Dawn of the Dinosaurs', '886,686,817', '2009'), ('77', 'The Lord of the Rings: The Fellowship of the Ring', '883,407,846', '2001'), ('78', 'Spectre', '880,705,312', '2015'), ('79', 'Spider-Man: Homecoming', '880,166,924', '2017'), ('80', 'Ice Age: Continental Drift', '877,244,782', '2012'), ('81', 'Batman v Superman: Dawn of Justice', '874,362,803', '2016'), ('82', 'Wolf Warrior 2', '870,325,439', '2017'), ('83', 'Star Wars: Episode III - Revenge of the Sith', '868,390,560', '2005'), ('84', 'The Hunger Games: Catching Fire', '865,011,746', '2013'), ('85', 'Guardians of the Galaxy Vol. 2', '863,756,051', '2017'), ('86', 'Black Panther: Wakanda Forever', '859,208,836', '2022'), ('87', 'Inside Out', '858,848,019', '2015'), ('88', 'Venom', '856,085,151', '2018'), ('89', 'Thor: Ragnarok', '855,301,806', '2017'), ('90', 'The Twilight Saga: Breaking Dawn - Part 2', '848,593,948', '2012'), ('91', 'Guardians of the Galaxy Vol. 3', '845,555,777', '2023'), ('92', 'Inception', '839,030,630', '2010'), ('93', 'Transformers: Revenge of the Fallen', '836,303,693', '2009'), ('94', 'Spider-Man', '825,025,036', '2002'), ('95', 'Wonder Woman', '823,970,682', '2017'), ('96', 'Hi, Mom', '822,009,764', '2021'), ('97', 'Independence Day', '817,400,891', '1996'), ('98', 'Fantastic Beasts and Where to Find Them', '816,037,575', '2016'), ('99', 'Coco', '814,337,054', '2017'), ('100', 'Shrek the Third', '813,367,380', '2007'), ('101', 'Harry Potter and the Prisoner of Azkaban', '807,040,707', '2004'), ('102', 'Jumanji: The Next Level', '801,693,929', '2019'), ('103', 'Pirates of the Caribbean: Dead Men Tell No Tales', '795,922,298', '2017'), ('104', 'E.T. the Extra-Terrestrial', '792,910,554', '1982'), ('105', 'Mission: Impossible - Fallout', '791,657,398', '2018'), ('106', '2012', '791,217,826', '2009'), ('107', 'Indiana Jones and the Kingdom of the Crystal Skull', '790,653,942', '2008'), ('108', 'Spider-Man 2', '788,976,453', '2004'), ('109', 'Fast & Furious 6', '788,680,968', '2013'), ('110', 'Deadpool 2', '785,896,609', '2018'), ('111', 'Deadpool', '782,836,791', '2016'), ('112', 'Star Wars: Episode IV - A New Hope', '775,398,007', '1977'), ('113', 'No Time to Die', '774,153,007', '2021'), ('114', 'Guardians of the Galaxy', '773,350,147', '2014'), ('115', 'Gravity', '773,031,583', '2013'), ('116', 'The Batman', '772,245,583', '2022'), ('117', 'Thor: Love and Thunder', '760,928,081', '2022'), ('118', 'Fast & Furious Presents: Hobbs & Shaw', '760,732,926', '2019'), ('119', 'The Da Vinci Code', '760,006,945', '2006'), ('120', 'Maleficent', '759,853,685', '2014'), ('121', 'The Amazing Spider-Man', '757,930,663', '2012'), ('122', 'The Hunger Games: Mockingjay - Part 1', '755,357,103', '2014'), ('123', 'Shrek Forever After', '752,600,867', '2010'), ('124', 'Suicide Squad', '749,200,054', '2016'), ('125', \"Madagascar 3: Europe's Most Wanted\", '746,921,274', '2012'), ('126', 'X-Men: Days of Future Past', '746,045,700', '2014'), ('127', 'The Chronicles of Narnia: The Lion, the Witch and the Wardrobe', '745,013,115', '2005'), ('128', 'Monsters University', '743,559,645', '2013'), ('129', 'The Matrix Reloaded', '741,847,937', '2003'), ('130', 'Up', '735,099,102', '2009'), ('131', 'Interstellar', '731,079,637', '2014'), ('132', 'Ne Zha', '726,264,074', '2019'), ('133', 'F9: The Fast Saga', '726,229,501', '2021'), ('134', 'Captain America: The Winter Soldier', '714,421,503', '2014'), ('135', 'The Twilight Saga: Breaking Dawn - Part 1', '712,205,856', '2011'), ('136', 'The Twilight Saga: New Moon', '711,025,481', '2009'), ('137', 'Dawn of the Planet of the Apes', '710,644,566', '2014'), ('138', 'Transformers', '709,709,780', '2007'), ('139', 'The Amazing Spider-Man 2', '708,982,323', '2014'), ('140', 'Fast X', '704,875,015', '2023'), ('141', 'It', '704,242,551', '2017'), ('142', 'The Wandering Earth', '699,992,512', '2019'), ('143', 'The Twilight Saga: Eclipse', '698,509,825', '2010'), ('144', 'The Hunger Games', '695,220,619', '2012'), ('145', 'Mission: Impossible - Ghost Protocol', '694,713,380', '2011'), ('146', 'Mamma Mia!', '694,640,739', '2008'), ('147', 'Spider-Man: Across the Spider-Verse', '690,516,673', '2023'), ('148', 'Moana', '687,228,908', '2016'), ('149', 'Detective Chinatown 3', '686,257,563', '2021'), ('150', 'Mission: Impossible - Rogue Nation', '682,716,636', '2015'), ('151', 'Forrest Gump', '678,226,465', '1994'), ('152', 'Doctor Strange', '677,796,076', '2016'), ('153', 'The Sixth Sense', '672,806,432', '1999'), ('154', 'Man of Steel', '670,145,518', '2013'), ('155', 'Ice Age: The Meltdown', '667,094,506', '2006'), ('156', 'Kung Fu Panda 2', '665,692,281', '2011'), ('157', 'The Hunger Games: Mockingjay - Part 2', '661,456,563', '2015'), ('158', 'Justice League', '661,326,987', '2017'), ('159', 'Big Hero 6', '657,869,686', '2014'), ('160', 'Fantastic Beasts: The Crimes of Grindelwald', '655,755,901', '2018'), ('161', 'Pirates of the Caribbean: The Curse of the Black Pearl', '654,264,015', '2003'), ('162', 'Men in Black 3', '654,213,485', '2012'), ('163', 'Star Wars: Episode II - Attack of the Clones', '653,779,970', '2002'), ('164', 'Thor: The Dark World', '644,783,140', '2013'), ('165', 'Sing', '634,338,384', '2016'), ('166', 'Kung Fu Panda', '632,083,197', '2008'), ('167', 'The Incredibles', '631,684,650', '2004'), ('168', 'The Martian', '630,620,818', '2015'), ('169', 'Hancock', '629,443,428', '2008'), ('170', 'Water Gate Bridge', '626,571,697', '2022'), ('171', 'Fast Five', '626,137,675', '2011'), ('172', 'Iron Man 2', '623,933,331', '2010'), ('173', 'Ratatouille', '623,726,085', '2007'), ('174', 'Ant-Man and the Wasp', '622,674,139', '2018'), ('175', 'How to Train Your Dragon 2', '621,537,519', '2014'), ('176', 'Logan', '619,179,950', '2017'), ('177', 'The Lost World: Jurassic Park', '618,638,999', '1997'), ('178', 'Casino Royale', '616,505,162', '2006'), ('179', 'The Passion of the Christ', '612,054,506', '2004'), ('180', 'Life of Pi', '609,016,565', '2012'), ('181', 'Ready Player One', '607,874,134', '2018'), ('182', 'Transformers: The Last Knight', '605,425,157', '2017'), ('183', 'Madagascar: Escape 2 Africa', '603,900,354', '2008'), ('184', 'War of the Worlds', '603,873,119', '2005'), ('185', 'Tangled', '592,462,816', '2010'), ('186', 'Quantum of Solace', '589,580,482', '2008'), ('187', 'Men in Black', '589,390,539', '1997'), ('188', 'The Croods', '587,235,983', '2013'), ('189', 'The Hangover Part II', '586,764,305', '2011'), ('190', 'Iron Man', '585,796,247', '2008'), ('191', 'I Am Legend', '585,410,052', '2007'), ('192', 'Monsters, Inc.', '579,707,738', '2001'), ('193', 'Operation Red Sea', '579,330,426', '2018'), ('194', 'Night at the Museum', '574,481,229', '2006'), ('195', 'Fifty Shades of Grey', '569,651,467', '2015'), ('196', 'The Little Mermaid', '569,626,289', '2023'), ('197', 'Kong: Skull Island', '568,652,812', '2017'), ('198', 'Mission: Impossible - Dead Reckoning Part One', '567,535,383', '2023'), ('199', 'The Smurfs', '563,749,323', '2011'), ('200', 'Cars 2', '559,852,396', '2011')]\n"
     ]
    }
   ],
   "source": [
    "%pip install regex\n",
    "import regex as re\n",
    "pattern = re.compile(r'(\\d+) (.+?) \\$([\\d,]+) (\\d+)')\n",
    "for i in list_movies:\n",
    "    extracted_data = [pattern.match(item).groups() for item in i]\n",
    "    print(extracted_data)"
   ]
  },
  {
   "cell_type": "code",
   "execution_count": 89,
   "metadata": {},
   "outputs": [],
   "source": [
    "df = pd.DataFrame(extracted_data, columns=['Rank', 'Title', 'Lifetime Gross', 'Year'])\n",
    "df['Lifetime Gross'] = df['Lifetime Gross'].str.replace(',', '').astype(float)\n",
    "# Display the DataFrame\n"
   ]
  },
  {
   "cell_type": "code",
   "execution_count": 91,
   "metadata": {},
   "outputs": [],
   "source": [
    "csv_file_path = 'Box_Office_Mojo.csv'\n",
    "df.to_csv(csv_file_path, index=False)"
   ]
  }
 ],
 "metadata": {
  "kernelspec": {
   "display_name": "Python 3",
   "language": "python",
   "name": "python3"
  },
  "language_info": {
   "codemirror_mode": {
    "name": "ipython",
    "version": 3
   },
   "file_extension": ".py",
   "mimetype": "text/x-python",
   "name": "python",
   "nbconvert_exporter": "python",
   "pygments_lexer": "ipython3",
   "version": "3.11.3"
  }
 },
 "nbformat": 4,
 "nbformat_minor": 2
}
